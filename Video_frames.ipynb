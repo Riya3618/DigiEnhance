{
  "nbformat": 4,
  "nbformat_minor": 0,
  "metadata": {
    "colab": {
      "name": "Video_frames.ipynb",
      "provenance": [],
      "collapsed_sections": []
    },
    "kernelspec": {
      "name": "python3",
      "display_name": "Python 3"
    },
    "language_info": {
      "name": "python"
    }
  },
  "cells": [
    {
      "cell_type": "markdown",
      "source": [
        "\n",
        "\n",
        "This code will split any video into separate frames and then from the newly super-resolved fromes create a new video.\n",
        "\n"
      ],
      "metadata": {
        "id": "P3P5CgQ81ou4"
      }
    },
    {
      "cell_type": "code",
      "execution_count": null,
      "metadata": {
        "id": "jvxDAvoAzJOs"
      },
      "outputs": [],
      "source": [
        "import cv2 as cv\n",
        "import numpy as np\n",
        "\n",
        "import matplotlib.pyplot as plt\n",
        "from google.colab import files\n",
        "import pandas as pd\n",
        "from tqdm.notebook import tqdm\n",
        "import random\n",
        "plt.rcParams['figure.figsize'] = [15,8]"
      ]
    },
    {
      "cell_type": "code",
      "source": [
        "vidcap = cv.VideoCapture('/content/short.mp4')\n",
        "pas,img = vidcap.read()\n",
        "co = 0\n",
        "while pas:\n",
        "  cv.imwrite(\"photo%d.jpg\" % co, img)          \n",
        "  pas,img = vidcap.read()\n",
        "  co += 1"
      ],
      "metadata": {
        "id": "V3TcHzJ7z28q"
      },
      "execution_count": null,
      "outputs": []
    },
    {
      "cell_type": "code",
      "source": [
        "format = cv.VideoWriter_fourcc(*'mp4v') \n",
        "width=100\n",
        "height=300\n",
        "vid = cv.VideoWriter('test.avi', format, 1, (width, height))\n",
        "\n",
        "for j in range(0,co):\n",
        "    img = cv.imread(str(j) + '.png')\n",
        "    vid.write(img)\n",
        "\n",
        "cv.destroyAllWindows()\n",
        "vid.release()"
      ],
      "metadata": {
        "id": "QnmDV_dK0RY6"
      },
      "execution_count": null,
      "outputs": []
    },
    {
      "cell_type": "code",
      "source": [
        "#super_res = cv.dnn_superres.DnnSuperResImpl_create()\n",
        "#path = \"ESPCN_x4.pb\" \n",
        "#super_res.readModel(path) \n",
        "#super_res.setModel(\"espcn\", 3)\n",
        "#result = super_res.upsample(img)"
      ],
      "metadata": {
        "id": "DY13AwEazfgy"
      },
      "execution_count": null,
      "outputs": []
    }
  ]
}