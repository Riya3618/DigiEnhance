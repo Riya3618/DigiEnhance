{
  "nbformat": 4,
  "nbformat_minor": 0,
  "metadata": {
    "colab": {
      "name": "Untitled77.ipynb",
      "provenance": []
    },
    "kernelspec": {
      "name": "python3",
      "display_name": "Python 3"
    },
    "language_info": {
      "name": "python"
    }
  },
  "cells": [
    {
      "cell_type": "code",
      "execution_count": 2,
      "metadata": {
        "id": "FSgiqVIu6Vq-",
        "colab": {
          "base_uri": "https://localhost:8080/"
        },
        "outputId": "5358e161-105a-446d-ff2c-bd37c35d9031"
      },
      "outputs": [
        {
          "output_type": "stream",
          "name": "stdout",
          "text": [
            "Collecting git+https://github.com/jiaaro/pydub.git@master\n",
            "  Cloning https://github.com/jiaaro/pydub.git (to revision master) to /tmp/pip-req-build-lda0a7hp\n",
            "  Running command git clone -q https://github.com/jiaaro/pydub.git /tmp/pip-req-build-lda0a7hp\n"
          ]
        }
      ],
      "source": [
        "pip install git+https://github.com/jiaaro/pydub.git@master"
      ]
    },
    {
      "cell_type": "code",
      "source": [
        "from pydub import AudioSegment\n",
        "from pydub.playback import play\n",
        "\n",
        "sound = AudioSegment.from_file(\"example.mp3\", format=\"mp3\")\n",
        "play(sound)"
      ],
      "metadata": {
        "id": "kDSLiTZISEst"
      },
      "execution_count": 3,
      "outputs": []
    },
    {
      "cell_type": "code",
      "source": [
        "print(\"Please Select the kbps value you want your audio in -\")\n",
        "print(\"\\n\")\n",
        "\n",
        "sound = AudioSegment.from_file(\"example.mp3\")\n",
        "\n",
        "print(\"Enter 1 for 64kbps\")\n",
        "print(\"\\n\")\n",
        "print(\"Enter 2 for 128kbps\")\n",
        "print(\"\\n\")\n",
        "print(\"Enter 3 for 192kbps\")\n",
        "print(\"\\n\")\n",
        "print(\"Enter 4 for 320kbps\")\n",
        "print(\"\\n\")\n",
        "\n",
        "n = int(input(\"Enter your choice = \"))\n",
        "print(\"\\n\")\n",
        "filenam = input(\"Enter the final file name = \")\n",
        "if(n==1):\n",
        "  sound.export(filenam+\".mp3\", format=\"mp3\", bitrate=\"64k\")\n",
        "if(n==2):\n",
        "  sound.export(filenam+\".mp3\", format=\"mp3\", bitrate=\"128k\")\n",
        "  print(\"done\")\n",
        "if(n==3):\n",
        "  sound.export(filenam+\".mp3\", format=\"mp3\", bitrate=\"192k\")  \n",
        "if(n==4):\n",
        "  sound.export(filenam+\".mp3\", format=\"mp3\", bitrate=\"320k\")  "
      ],
      "metadata": {
        "colab": {
          "base_uri": "https://localhost:8080/"
        },
        "id": "GtzY2ncZSFaD",
        "outputId": "b1e27cfc-c17f-4f3d-feed-17b56b2454ab"
      },
      "execution_count": 4,
      "outputs": [
        {
          "name": "stdout",
          "output_type": "stream",
          "text": [
            "Please Select the kbps value you want your audio in -\n",
            "Enter 1 for 64kbps\n",
            "\n",
            "\n",
            "Enter 2 for 128kbps\n",
            "\n",
            "\n",
            "Enter 3 for 192kbps\n",
            "\n",
            "\n",
            "Enter 4 for 320kbps\n",
            "\n",
            "\n",
            "Enter your choice = 1\n",
            "\n",
            "\n",
            "Enter the final file name = 64example\n"
          ]
        }
      ]
    }
  ]
}