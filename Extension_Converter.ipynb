{
  "nbformat": 4,
  "nbformat_minor": 0,
  "metadata": {
    "colab": {
      "name": "Untitled78.ipynb",
      "provenance": []
    },
    "kernelspec": {
      "name": "python3",
      "display_name": "Python 3"
    },
    "language_info": {
      "name": "python"
    }
  },
  "cells": [
    {
      "cell_type": "code",
      "source": [
        "from google.colab import drive\n",
        "drive.mount('/content/drive')"
      ],
      "metadata": {
        "colab": {
          "base_uri": "https://localhost:8080/"
        },
        "id": "dsOPKJtHaOb6",
        "outputId": "21c16551-007b-492c-9a8d-f5aabb76d67f"
      },
      "execution_count": 7,
      "outputs": [
        {
          "output_type": "stream",
          "name": "stdout",
          "text": [
            "Mounted at /content/drive\n"
          ]
        }
      ]
    },
    {
      "cell_type": "code",
      "execution_count": 8,
      "metadata": {
        "colab": {
          "base_uri": "https://localhost:8080/",
          "height": 74
        },
        "id": "sdMWgGjSUlg4",
        "outputId": "6b3dfbb1-989d-44d6-ab49-785c12b6eecb"
      },
      "outputs": [
        {
          "output_type": "stream",
          "name": "stdout",
          "text": [
            "Installation finished.\n"
          ]
        }
      ],
      "source": [
        "#@title <font size=\"5\">← ឵឵<i>Upgrade FFmpeg to v4.2.2</font> { vertical-output: true }\n",
        "from IPython.display import clear_output\n",
        "import os, urllib.request\n",
        "HOME = os.path.expanduser(\"~\")\n",
        "pathDoneCMD = f'{HOME}/doneCMD.sh'\n",
        "if not os.path.exists(f\"{HOME}/.ipython/ttmg.py\"):\n",
        "    hCode = \"https://raw.githubusercontent.com/yunooooo/gcct/master/res/ttmg.py\"\n",
        "    urllib.request.urlretrieve(hCode, f\"{HOME}/.ipython/ttmg.py\")\n",
        "\n",
        "from ttmg import (\n",
        "    loadingAn,\n",
        "    textAn,\n",
        ")\n",
        "\n",
        "loadingAn(name=\"lds\")\n",
        "textAn(\"Installing Dependencies...\", ty='twg')\n",
        "os.system('pip install git+git://github.com/AWConant/jikanpy.git')\n",
        "os.system('add-apt-repository -y ppa:jonathonf/ffmpeg-4')\n",
        "os.system('apt-get update')\n",
        "os.system('apt install mediainfo')\n",
        "os.system('apt-get install ffmpeg')\n",
        "clear_output()\n",
        "print('Installation finished.')\n"
      ]
    },
    {
      "cell_type": "code",
      "source": [
        "import os, sys, re\n",
        "\n",
        "media_file_path = \"example.mp3\" #@param {type:\"string\"}\n",
        "\n",
        "os.environ['inputFile'] = media_file_path\n",
        "\n",
        "!ffmpeg -i \"$inputFile\" -hide_banner"
      ],
      "metadata": {
        "colab": {
          "base_uri": "https://localhost:8080/"
        },
        "id": "snlnLc6vX-Fr",
        "outputId": "fe913ef1-ea01-4c27-abe3-d72ca871608d"
      },
      "execution_count": 9,
      "outputs": [
        {
          "output_type": "stream",
          "name": "stdout",
          "text": [
            "Input #0, mp3, from 'example.mp3':\n",
            "  Metadata:\n",
            "    genre           : Cinematic\n",
            "    album           : YouTube Audio Library\n",
            "    title           : Impact Moderato\n",
            "    artist          : Kevin MacLeod\n",
            "  Duration: 00:00:27.17, start: 0.025057, bitrate: 320 kb/s\n",
            "    Stream #0:0: Audio: mp3, 44100 Hz, stereo, fltp, 320 kb/s\n",
            "    Metadata:\n",
            "      encoder         : LAME3.99r\n",
            "\u001b[4;31mAt least one output file must be specified\n",
            "\u001b[0m"
          ]
        }
      ]
    },
    {
      "cell_type": "code",
      "source": [
        "import os, sys, re\n",
        "\n",
        "audio_file_path = \"/content/example.mp3\" #@param {type:\"string\"}\n",
        "output_file_type = \"wav\" #@param [\"mp3\", \"ogg\", \"m4a\", \"opus\", \"flac\", \"alac\", \"wav\"]\n",
        "\n",
        "output_file_path = re.search(\"^[\\/].+\\/\", audio_file_path)\n",
        "output_file_path_raw = output_file_path.group(0)\n",
        "delsplit = re.search(\"\\/(?:.(?!\\/))+$\", audio_file_path)\n",
        "filename = re.sub(\"^[\\/]\", \"\", delsplit.group(0))\n",
        "filename_raw = re.sub(\".{4}$\", \"\", filename)\n",
        "file_extension = re.search(\".{3}$\", filename)\n",
        "file_extension_raw = file_extension.group(0)\n",
        "\n",
        "os.environ['inputFile'] = audio_file_path\n",
        "os.environ['outputPath'] = output_file_path_raw\n",
        "os.environ['fileExtension'] = output_file_type\n",
        "os.environ['fileName'] = filename_raw\n",
        "\n",
        "!ffmpeg -hide_banner -i \"$inputFile\" \"$outputPath\"/\"$fileName\"converted.\"$fileExtension\""
      ],
      "metadata": {
        "colab": {
          "base_uri": "https://localhost:8080/"
        },
        "id": "veaw9hF8Z0Xm",
        "outputId": "d4967b53-06d6-4fe8-c2b7-6a5fd33322f5"
      },
      "execution_count": 11,
      "outputs": [
        {
          "output_type": "stream",
          "name": "stdout",
          "text": [
            "Input #0, mp3, from '/content/example.mp3':\n",
            "  Metadata:\n",
            "    genre           : Cinematic\n",
            "    album           : YouTube Audio Library\n",
            "    title           : Impact Moderato\n",
            "    artist          : Kevin MacLeod\n",
            "  Duration: 00:00:27.17, start: 0.025057, bitrate: 320 kb/s\n",
            "    Stream #0:0: Audio: mp3, 44100 Hz, stereo, fltp, 320 kb/s\n",
            "    Metadata:\n",
            "      encoder         : LAME3.99r\n",
            "Stream mapping:\n",
            "  Stream #0:0 -> #0:0 (mp3 (mp3float) -> pcm_s16le (native))\n",
            "Press [q] to stop, [?] for help\n",
            "Output #0, wav, to '/content//exampleconverted.wav':\n",
            "  Metadata:\n",
            "    IGNR            : Cinematic\n",
            "    IPRD            : YouTube Audio Library\n",
            "    INAM            : Impact Moderato\n",
            "    IART            : Kevin MacLeod\n",
            "    ISFT            : Lavf58.45.100\n",
            "    Stream #0:0: Audio: pcm_s16le ([1][0][0][0] / 0x0001), 44100 Hz, stereo, s16, 1411 kb/s\n",
            "    Metadata:\n",
            "      encoder         : Lavc58.91.100 pcm_s16le\n",
            "size=    4673kB time=00:00:27.12 bitrate=1411.3kbits/s speed= 304x    \n",
            "video:0kB audio:4672kB subtitle:0kB other streams:0kB global headers:0kB muxing overhead: 0.003595%\n"
          ]
        }
      ]
    }
  ]
}